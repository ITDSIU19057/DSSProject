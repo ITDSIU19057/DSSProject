{
 "cells": [
  {
   "cell_type": "markdown",
   "id": "7f79bfeb",
   "metadata": {},
   "source": [
    "## 1.Pre-Processing Data Before Import ( Convert Into Suitable Dataset )"
   ]
  },
  {
   "cell_type": "markdown",
   "id": "d19a8787",
   "metadata": {},
   "source": [
    "### Movie DataSet"
   ]
  },
  {
   "cell_type": "code",
   "execution_count": 268,
   "id": "c1aafdb5",
   "metadata": {},
   "outputs": [
    {
     "name": "stderr",
     "output_type": "stream",
     "text": [
      "100%|███████████████████████████████████████████████████████████████████████████| 62423/62423 [04:35<00:00, 226.97it/s]\n"
     ]
    }
   ],
   "source": [
    "# removed_movie = []\n",
    "# index = 0\n",
    "# for movie in tqdm(np_movies):\n",
    "#     if movie[0] not in np_genome[:,0]:\n",
    "#         np_movies = np.delete(np_movies, index,0)\n",
    "#         removed_movie.append(index)\n",
    "#         continue\n",
    "#     index += 1"
   ]
  },
  {
   "cell_type": "code",
   "execution_count": 350,
   "id": "7aeabf38",
   "metadata": {},
   "outputs": [],
   "source": [
    "# processed_movies = pd.DataFrame(np_movies, columns=movies.columns)\n",
    "# processed_movies.to_csv('processed_movies.csv', encoding='utf-8', index=False)"
   ]
  },
  {
   "cell_type": "markdown",
   "id": "c42745ce",
   "metadata": {},
   "source": [
    "### Mostly Genome ( Scores + Tags )"
   ]
  },
  {
   "cell_type": "code",
   "execution_count": 326,
   "id": "9bf778ee",
   "metadata": {},
   "outputs": [],
   "source": [
    "# def preprocess_tag():    \n",
    "#     sort_tags = sorted(tag_count.items(), key=lambda x:x[1], reverse=True)[:70]\n",
    "#     mostly_tags_df = pd.DataFrame(columns=genome_tags.columns)\n",
    "#     tags_id = {}\n",
    "#     for tag in sort_tags:\n",
    "#         count = genome_tags.tag == tag[0]\n",
    "#         if count.sum() != 1:\n",
    "#             continue\n",
    "#         else:\n",
    "#             tag_index = genome_tags.tagId[count].values[0]\n",
    "#             concat = pd.DataFrame([[tag_index, tag[0]]], columns=genome_tags.columns)\n",
    "#             tags_id[tag[0]] = tag_index\n",
    "#             mostly_tags_df = pd.concat([mostly_tags_df,concat], ignore_index=True)\n",
    "#     return tags_id, mostly_tags_df\n",
    "\n",
    "# tags_id, mostly_tags_df = preprocess_tag()\n",
    "\n",
    "# genome = pd.merge(genome_scores,mostly_tags_df,on='tagId')\n",
    "\n"
   ]
  },
  {
   "cell_type": "code",
   "execution_count": 330,
   "id": "7fdbf309",
   "metadata": {},
   "outputs": [],
   "source": [
    "# genome.to_csv('processed_genome1.csv', encoding='utf-8', index=False)"
   ]
  },
  {
   "cell_type": "markdown",
   "id": "f86b1db5",
   "metadata": {},
   "source": [
    "### Tags Count"
   ]
  },
  {
   "cell_type": "code",
   "execution_count": null,
   "id": "be975c91",
   "metadata": {
    "scrolled": true
   },
   "outputs": [],
   "source": [
    "# tag_count = {}\n",
    "# for i in tqdm(range(len(np_genome_tags))):\n",
    "#     count =  tags.tag[tags.tag == i].count()\n",
    "# #     if count > 10:\n",
    "#     tag_count[i] = int(count)\n",
    "\n",
    "# import json\n",
    "# with open(\"Tag_Count.json\", \"w\") as write_file:\n",
    "#     json.dump(tag_count, write_file, indent=4)"
   ]
  },
  {
   "cell_type": "markdown",
   "id": "90eeb681",
   "metadata": {},
   "source": [
    "## 2. Import Libraries"
   ]
  },
  {
   "cell_type": "code",
   "execution_count": 1,
   "id": "aba397a8-e1ae-42c7-94a6-336035cc3d49",
   "metadata": {},
   "outputs": [],
   "source": [
    "import pandas as pd \n",
    "import numpy as np\n",
    "from tqdm import tqdm\n",
    "import json"
   ]
  },
  {
   "cell_type": "markdown",
   "id": "2172f41b",
   "metadata": {},
   "source": [
    "## 3. Import DataSet and Convert into Array"
   ]
  },
  {
   "cell_type": "code",
   "execution_count": 331,
   "id": "8583c8e8-aacf-412d-997d-2a125e5bfb68",
   "metadata": {},
   "outputs": [],
   "source": [
    "# ratings = pd.read_csv(\"ratings.csv\")\n",
    "# movies = pd.read_csv(\"movies.csv\")\n",
    "# tags = pd.read_csv(\"tags.csv\")\n",
    "# genome_scores = pd.read_csv(\"genome-scores.csv\")\n",
    "# genome_tags = pd.read_csv(\"genome-tags.csv\")\n",
    "# genome = pd.merge(genome_scores,genome_tags,on='tagId')"
   ]
  },
  {
   "cell_type": "code",
   "execution_count": 4,
   "id": "773251f1",
   "metadata": {},
   "outputs": [],
   "source": [
    "ratings = pd.read_csv(\"ratings.csv\")\n",
    "movies = pd.read_csv(\"processed_movies.csv\")\n",
    "tags = pd.read_csv(\"tags.csv\")\n",
    "genome = pd.read_csv(\"processed_genome.csv\")"
   ]
  },
  {
   "cell_type": "code",
   "execution_count": 5,
   "id": "e13879f8",
   "metadata": {},
   "outputs": [],
   "source": [
    "# Opening JSON file\n",
    "f = open('Tag_Count.json')\n",
    "  \n",
    "# returns JSON object as a dictionary\n",
    "tag_count = json.load(f)"
   ]
  },
  {
   "cell_type": "code",
   "execution_count": 6,
   "id": "4d87b8d7",
   "metadata": {},
   "outputs": [],
   "source": [
    "np_genome = genome.to_numpy()\n",
    "np_movies = movies.to_numpy()\n",
    "np_tags = tags.to_numpy()\n",
    "np_ratings = ratings.to_numpy()\n",
    "# np_genome_tags = genome_tags.to_numpy()"
   ]
  },
  {
   "cell_type": "markdown",
   "id": "f1c6fcc5",
   "metadata": {},
   "source": [
    "## 4. Requirement Dict"
   ]
  },
  {
   "cell_type": "markdown",
   "id": "091e1f8b",
   "metadata": {},
   "source": [
    "### 4.1 Tags_Id"
   ]
  },
  {
   "cell_type": "code",
   "execution_count": 7,
   "id": "1c5fdf1f",
   "metadata": {},
   "outputs": [],
   "source": [
    "tags_id = {}\n",
    "for index, tag in enumerate(np.unique(genome.tag)):\n",
    "    tags_id[tag] = (np.unique(genome.tagId)[index],index)"
   ]
  },
  {
   "cell_type": "markdown",
   "id": "56bc381e",
   "metadata": {},
   "source": [
    "### 4.2 Movies_Id"
   ]
  },
  {
   "cell_type": "code",
   "execution_count": 8,
   "id": "68dfd083",
   "metadata": {},
   "outputs": [],
   "source": [
    "movies_id = {}\n",
    "for index, movie in enumerate(np_movies):\n",
    "    movies_id[movie[1]] = (movie[0], index)"
   ]
  },
  {
   "cell_type": "code",
   "execution_count": 9,
   "id": "ba9b148e",
   "metadata": {},
   "outputs": [],
   "source": [
    "item = 'Shrek the Third (2007)'\n",
    "retrieved_item = 'Shrek (2001)'\n",
    "tag = 'action'\n",
    "direction = 0.5"
   ]
  },
  {
   "cell_type": "markdown",
   "id": "e8552e9d",
   "metadata": {},
   "source": [
    "## 5.2.1. Critique Distance"
   ]
  },
  {
   "cell_type": "code",
   "execution_count": 10,
   "id": "06c5e385",
   "metadata": {},
   "outputs": [],
   "source": [
    "def rel_item(item,tag):\n",
    "    movie_id = movies_id[item][0]\n",
    "    tag_id = tags_id[tag][0]\n",
    "    return float(np_genome[(np.where((np_genome[:,0] == movie_id) & (np_genome[:,1] == tag_id)))][:,2])"
   ]
  },
  {
   "cell_type": "code",
   "execution_count": 14,
   "id": "956da154",
   "metadata": {},
   "outputs": [
    {
     "data": {
      "text/plain": [
       "0.2554999999999999"
      ]
     },
     "execution_count": 14,
     "metadata": {},
     "output_type": "execute_result"
    }
   ],
   "source": [
    "rel_all_items(tag)"
   ]
  },
  {
   "cell_type": "code",
   "execution_count": 11,
   "id": "64a85ac0",
   "metadata": {},
   "outputs": [],
   "source": [
    "#rel_item_optimized \n",
    "def rel_all_items(tag):\n",
    "    tag_index = tags_id[tag][1]\n",
    "    len_movie = len(movies)\n",
    "    rel_items = np_genome[tag_index*len_movie:tag_index*len_movie+len_movie,2].tolist()\n",
    "    return rel_items"
   ]
  },
  {
   "cell_type": "code",
   "execution_count": 12,
   "id": "a63242fb",
   "metadata": {},
   "outputs": [],
   "source": [
    "def linear_sat(item,tag,direction):\n",
    "    a = (rel_all_items(tag) - np.array(rel_item(item,tag)))*direction\n",
    "    result = np.clip(a, 0, 1)\n",
    "    return result"
   ]
  },
  {
   "cell_type": "code",
   "execution_count": 13,
   "id": "bff55c61",
   "metadata": {},
   "outputs": [],
   "source": [
    "def diminish_sat(item,tag,direction):\n",
    "    critique_dist = linear_sat(item,tag,direction)\n",
    "    result = 1 - np.exp(-5*critique_dist)\n",
    "    return result"
   ]
  },
  {
   "cell_type": "code",
   "execution_count": 15,
   "id": "880749de",
   "metadata": {},
   "outputs": [
    {
     "data": {
      "text/plain": [
       "0.4725"
      ]
     },
     "execution_count": 15,
     "metadata": {},
     "output_type": "execute_result"
    }
   ],
   "source": [
    "rel_item(retrieved_item,tag)"
   ]
  },
  {
   "cell_type": "code",
   "execution_count": 16,
   "id": "331bdfbc",
   "metadata": {},
   "outputs": [
    {
     "data": {
      "text/plain": [
       "0.2554999999999999"
      ]
     },
     "execution_count": 16,
     "metadata": {},
     "output_type": "execute_result"
    }
   ],
   "source": [
    "rel_item(item,tag)"
   ]
  },
  {
   "cell_type": "code",
   "execution_count": 17,
   "id": "e02d254e",
   "metadata": {},
   "outputs": [
    {
     "data": {
      "text/plain": [
       "array([0.63850244, 0.61782437, 0.        , ..., 0.07109611, 0.01673341,\n",
       "       0.44289414])"
      ]
     },
     "execution_count": 17,
     "metadata": {},
     "output_type": "execute_result"
    }
   ],
   "source": [
    "result = diminish_sat(item,tag,direction)\n",
    "result"
   ]
  },
  {
   "cell_type": "markdown",
   "id": "a3f7d913",
   "metadata": {},
   "source": [
    "## 5.2.2. Item Similarity"
   ]
  },
  {
   "cell_type": "code",
   "execution_count": 18,
   "id": "24224ccf",
   "metadata": {},
   "outputs": [],
   "source": [
    "def population():\n",
    "    populations = {}\n",
    "    for tag in tags_id:\n",
    "        if tag not in tag_count.keys():\n",
    "            tag_count[tag] = 0\n",
    "        populations[tag] = tag_count[tag]\n",
    "    return populations"
   ]
  },
  {
   "cell_type": "code",
   "execution_count": 19,
   "id": "93d4715f",
   "metadata": {},
   "outputs": [],
   "source": [
    "populations = population()"
   ]
  },
  {
   "cell_type": "code",
   "execution_count": 20,
   "id": "f67bf44d",
   "metadata": {},
   "outputs": [],
   "source": [
    "def single_doc_freq(tag):\n",
    "    # used to compute as the number of items where relevant greater tha 0.5 for only one tag \n",
    "    index = np.where(np_genome[:,3] == tag)\n",
    "    count = (np_genome[index][:,2] > 0.5).sum()\n",
    "    return count"
   ]
  },
  {
   "cell_type": "code",
   "execution_count": 21,
   "id": "b4403b64",
   "metadata": {},
   "outputs": [
    {
     "data": {
      "text/plain": [
       "2139"
      ]
     },
     "execution_count": 21,
     "metadata": {},
     "output_type": "execute_result"
    }
   ],
   "source": [
    "single_doc_freq('action')"
   ]
  },
  {
   "cell_type": "code",
   "execution_count": 22,
   "id": "f2958edb",
   "metadata": {},
   "outputs": [],
   "source": [
    "def full_doc_freq():\n",
    "    #used to comute doc_freq for all tags\n",
    "    doc_freqs = {tag:0 for tag in tags_id}\n",
    "    len_movies = len(movies)\n",
    "    for i in tqdm(range(0,len(np_genome),len_movies)):\n",
    "        tag = np_genome[i][-1]\n",
    "        doc_freqs[tag] = (np_genome[i:i+len_movies,2] > 0.5).sum()\n",
    "    return doc_freqs"
   ]
  },
  {
   "cell_type": "code",
   "execution_count": 23,
   "id": "435e6ddf",
   "metadata": {},
   "outputs": [
    {
     "name": "stderr",
     "output_type": "stream",
     "text": [
      "100%|████████████████████████████████████████████████████████████████████████████████| 65/65 [00:00<00:00, 2496.02it/s]\n"
     ]
    }
   ],
   "source": [
    "doc_freqs = full_doc_freq()"
   ]
  },
  {
   "cell_type": "code",
   "execution_count": 24,
   "id": "596c2ce6",
   "metadata": {},
   "outputs": [],
   "source": [
    "def tags_weight(populations, doc_freqs, alpha = 0.000001):\n",
    "    doc_freqs = np.array(list(doc_freqs.values()))\n",
    "    populations = np.array(list(populations.values()))\n",
    "    result = (np.array(populations) + alpha) / (doc_freqs + alpha)\n",
    "    return np.clip(result,0,result.max())"
   ]
  },
  {
   "cell_type": "code",
   "execution_count": 25,
   "id": "beb013f0",
   "metadata": {
    "scrolled": false
   },
   "outputs": [
    {
     "data": {
      "text/plain": [
       "array([ 2.76157083,  2.30887097,  8.61682241,  3.59594594, 25.0845067 ,\n",
       "        3.66685425,  2.73800539,  3.72580645,  1.75601375,  5.03260869,\n",
       "       61.48275654,  0.91064757,  2.75159236,  2.21867704,  3.2527881 ,\n",
       "        1.53343239,  1.65985915,  2.20468278,  9.72463766,  2.34830508,\n",
       "        0.63916769,  3.06050955,  4.01569858, 13.17956653,  0.77253548,\n",
       "        3.98529411,  1.38566351,  2.84223155,  7.01362396,  3.40687161,\n",
       "        2.14438944,  0.7780154 ,  0.72556657,  1.19333333,  2.93388429,\n",
       "        6.78694156,  1.3875803 ,  3.681203  ,  4.12676056,  2.86498516,\n",
       "       10.69483564,  0.66881973,  1.41977501,  3.30446673,  3.12404418,\n",
       "        1.55396066,  2.81649331,  3.52139461, 10.55766792,  3.06083086,\n",
       "        1.12689461,  8.10644256,  1.88950836, 10.89591074,  4.73001776,\n",
       "        0.8964066 ,  0.81458824,  4.53301886,  2.39583333, 24.79389295,\n",
       "        3.20495185,  5.78631452,  1.32269645,  1.3909035 ,  2.84722222])"
      ]
     },
     "execution_count": 25,
     "metadata": {},
     "output_type": "execute_result"
    }
   ],
   "source": [
    "weights = tags_weight(populations, doc_freqs)\n",
    "weights"
   ]
  },
  {
   "cell_type": "code",
   "execution_count": 26,
   "id": "4e684f86",
   "metadata": {},
   "outputs": [],
   "source": [
    "def tag_item_vector(item):\n",
    "    item_id = movies_id[item][0]\n",
    "    full_tags_item = [np_genome[i][2] for i in np.where(np_genome[:,0] == item_id)[0]]  \n",
    "#     if np.shape(full_tags_item) != (1128,):\n",
    "#         full_tags_item = (np.zeros((1128,))+0.5).tolist()\n",
    "    return full_tags_item"
   ]
  },
  {
   "cell_type": "code",
   "execution_count": 35,
   "id": "41e76dbb",
   "metadata": {},
   "outputs": [],
   "source": [
    "def cos_similarity(item, weights):\n",
    "    \n",
    "    # Create all movies's tags scores\n",
    "    list_tags = np.zeros((len(movies),len(tags_id)))\n",
    "\n",
    "    for index,tag_score in enumerate(np_genome[:,2]):\n",
    "        tags_index = index // len(movies)\n",
    "        movies_index = index - tags_index*len(movies)\n",
    "        list_tags[movies_index,tags_index] = tag_score\n",
    "        \n",
    "    # Extract 1 query movie from matrix above \n",
    "    query_index = movies_id[item][1]\n",
    "    query_tags = list_tags[query_index]\n",
    "    \n",
    "    numerator = np.dot(list_tags * list_tags[query_index],weights)\n",
    "    \n",
    "    denominator = np.sqrt(np.dot(list_tags**2, weights)) * np.sqrt(np.dot(query_tags**2, weights))\n",
    "    \n",
    "    result = numerator / denominator\n",
    "    return result"
   ]
  },
  {
   "cell_type": "code",
   "execution_count": 36,
   "id": "e5ce393f",
   "metadata": {},
   "outputs": [
    {
     "data": {
      "text/plain": [
       "array([0.72398614, 0.5960863 , 0.79903563, ..., 0.54558482, 0.60957284,\n",
       "       0.62228295])"
      ]
     },
     "execution_count": 36,
     "metadata": {},
     "output_type": "execute_result"
    }
   ],
   "source": [
    "cos_similarity('Shrek the Third (2007)',weights)"
   ]
  },
  {
   "cell_type": "code",
   "execution_count": 235,
   "id": "c7d2be99",
   "metadata": {},
   "outputs": [],
   "source": [
    "def encode_movies():\n",
    "    genres = {}\n",
    "    index = 0\n",
    "    movies_encode = []\n",
    "    for movie in np_movies[:,2]:\n",
    "        movie_encode = [0]*20\n",
    "        for genre in movie.split('|'):\n",
    "            if genre not in genres:\n",
    "                genres[genre] = index\n",
    "                index += 1\n",
    "            movie_encode[genres[genre]] = 1\n",
    "        movies_encode.append(movie_encode)\n",
    "    return movies_encode"
   ]
  },
  {
   "cell_type": "code",
   "execution_count": 236,
   "id": "a7dd660c",
   "metadata": {},
   "outputs": [],
   "source": [
    "movies_encode = encode_movies()"
   ]
  },
  {
   "cell_type": "code",
   "execution_count": 296,
   "id": "df6e6892",
   "metadata": {},
   "outputs": [],
   "source": [
    "def genres_similarity(item):\n",
    "    index = movies_id[item][1]\n",
    "    numerator = np.dot(movies_encode, movies_encode[index])\n",
    "    denominator = np.sqrt(np.square(movies_encode[index]).sum()) * np.sqrt(np.sum(np.square(movies_encode),axis=1))\n",
    "    return numerator/denominator"
   ]
  },
  {
   "cell_type": "code",
   "execution_count": 297,
   "id": "7b05985b",
   "metadata": {},
   "outputs": [
    {
     "data": {
      "text/plain": [
       "array([1.        , 0.77459667, 0.31622777, ..., 0.        , 0.4472136 ,\n",
       "       0.4472136 ])"
      ]
     },
     "execution_count": 297,
     "metadata": {},
     "output_type": "execute_result"
    }
   ],
   "source": [
    "genres_similarity('Toy Story (1995)')"
   ]
  },
  {
   "cell_type": "code",
   "execution_count": 403,
   "id": "3ecb196f",
   "metadata": {},
   "outputs": [],
   "source": [
    "item = 'Shrek the Third (2007)'\n",
    "retrieved_item = 'Shrek (2001)'\n",
    "tag = 'classic'\n",
    "direction = 0.5"
   ]
  },
  {
   "cell_type": "code",
   "execution_count": 404,
   "id": "39d7e555",
   "metadata": {},
   "outputs": [],
   "source": [
    "def recommendation(item, tag, direction):    \n",
    "    value = diminish_sat(item,tag,direction)\n",
    "    cos = cos_similarity(item, weights)\n",
    "    genre_simi = genres_similarity(item)\n",
    "\n",
    "    a = value * cos * genre_simi\n",
    "    # progress_bar = tqdm(np_movies[:,1])\n",
    "\n",
    "    score = {}\n",
    "\n",
    "    for index, movie in enumerate(np_movies[:,1]):\n",
    "        score[movie] = a[index]\n",
    "    \n",
    "    result = sorted(score.items(), key=lambda x:x[1], reverse=True)[:10]\n",
    "    return result"
   ]
  },
  {
   "cell_type": "markdown",
   "id": "b2192175",
   "metadata": {},
   "source": [
    "### Toi day thoi nha, Phan sau t de lai update dan` dan` a' "
   ]
  },
  {
   "cell_type": "code",
   "execution_count": 417,
   "id": "fe7ee16c",
   "metadata": {},
   "outputs": [
    {
     "data": {
      "text/plain": [
       "(26340, 7423)"
      ]
     },
     "execution_count": 417,
     "metadata": {},
     "output_type": "execute_result"
    }
   ],
   "source": [
    "movies_id[\"Twelve Tasks of Asterix, The (Les douze travaux d'Astérix) (1976)\"]"
   ]
  },
  {
   "cell_type": "code",
   "execution_count": 419,
   "id": "38332d95",
   "metadata": {},
   "outputs": [
    {
     "name": "stdout",
     "output_type": "stream",
     "text": [
      "rel:  0.682\n",
      "linear  0.30287500000000006\n",
      "dimi  0.780054392096477\n",
      "cos  0.7926676759967288\n",
      "genre  0.9128709291752769\n"
     ]
    }
   ],
   "source": [
    "index = 3869\n",
    "print('rel: ', rel_all_items(tag)[index])\n",
    "print('linear ',linear_sat(item,tag,direction)[index])\n",
    "print('dimi ',diminish_sat(item,tag,direction)[index])\n",
    "print('cos ',cos[index])\n",
    "print('genre ',genre_simi[index])"
   ]
  },
  {
   "cell_type": "code",
   "execution_count": 420,
   "id": "23fd9c81",
   "metadata": {},
   "outputs": [
    {
     "name": "stdout",
     "output_type": "stream",
     "text": [
      "rel:  0.8585\n",
      "linear  0.39112500000000006\n",
      "dimi  0.8585239734602474\n",
      "cos  0.7824276446434084\n",
      "genre  0.9128709291752769\n"
     ]
    }
   ],
   "source": [
    "index = 7423\n",
    "print('rel: ', rel_all_items(tag)[index])\n",
    "print('linear ',linear_sat(item,tag,direction)[index])\n",
    "print('dimi ',diminish_sat(item,tag,direction)[index])\n",
    "print('cos ',cos[index])\n",
    "print('genre ',genre_simi[index])"
   ]
  },
  {
   "cell_type": "code",
   "execution_count": 407,
   "id": "fa2c2b79",
   "metadata": {},
   "outputs": [
    {
     "data": {
      "text/plain": [
       "0.0762499999999999"
      ]
     },
     "execution_count": 407,
     "metadata": {},
     "output_type": "execute_result"
    }
   ],
   "source": [
    "rel_item(item,tag)"
   ]
  },
  {
   "cell_type": "code",
   "execution_count": 410,
   "id": "f2c17c3d",
   "metadata": {},
   "outputs": [
    {
     "data": {
      "text/plain": [
       "0.682"
      ]
     },
     "execution_count": 410,
     "metadata": {},
     "output_type": "execute_result"
    }
   ],
   "source": [
    "rel_item(retrieved_item,tag)"
   ]
  },
  {
   "cell_type": "code",
   "execution_count": 405,
   "id": "1621178b",
   "metadata": {},
   "outputs": [
    {
     "data": {
      "text/plain": [
       "[(\"Twelve Tasks of Asterix, The (Les douze travaux d'Astérix) (1976)\",\n",
       "  0.6132054278393179),\n",
       " ('Toy Story (1995)', 0.6097923156447862),\n",
       " ('Monsters, Inc. (2001)', 0.5690709330005551),\n",
       " ('Finding Nemo (2003)', 0.5690085042875217),\n",
       " ('Shrek (2001)', 0.5644499150724894),\n",
       " ('Land Before Time, The (1988)', 0.5258969507800617),\n",
       " ('Rabbit Seasoning (1952)', 0.5237035308080275),\n",
       " ('Mickey, Donald, Goofy: The Three Musketeers (2004)', 0.5221382682016416),\n",
       " ('Toy Story 2 (1999)', 0.5210363773449698),\n",
       " ('101 Dalmatians (One Hundred and One Dalmatians) (1961)',\n",
       "  0.5204273336982295),\n",
       " ('Robin Hood (1973)', 0.5174882737419338),\n",
       " ('Looney, Looney, Looney Bugs Bunny Movie, The (1981)', 0.5050147137371742),\n",
       " ('Who Framed Roger Rabbit? (1988)', 0.4964904965181962),\n",
       " ('Bugs Bunny / Road Runner Movie, The (a.k.a. The Great American Chase) (1979)',\n",
       "  0.49541329158142033),\n",
       " ('Aladdin (1992)', 0.4940054467812984),\n",
       " ('Rudolph, the Red-Nosed Reindeer (1964)', 0.4930313943730364),\n",
       " ('Asterix and Cleopatra (Astérix et Cléopâtre) (1968)', 0.4893188379711815),\n",
       " ('Absent-Minded Professor, The (1961)', 0.4853261238885854),\n",
       " (\"It's the Great Pumpkin, Charlie Brown (1966)\", 0.48124260304226657),\n",
       " ('Presto (2008)', 0.47729004250528695),\n",
       " (\"Emperor's New Groove, The (2000)\", 0.47484177479695067),\n",
       " ('Wallace & Gromit: A Close Shave (1995)', 0.47363178342161),\n",
       " ('Peanuts Movie, The (2015)', 0.47010443413455905),\n",
       " ('Winnie the Pooh (2011)', 0.45695511033124653),\n",
       " (\"Bon Voyage, Charlie Brown (and Don't Come Back!) (1980)\",\n",
       "  0.4524411734142541),\n",
       " ('Charlie Brown Christmas, A (1965)', 0.4451104285235003),\n",
       " ('Alice in Wonderland (1951)', 0.4443578763521039),\n",
       " ('Sword in the Stone, The (1963)', 0.44202216601053684),\n",
       " (\"Bug's Life, A (1998)\", 0.4382788208605327),\n",
       " ('101 Dalmatians (1996)', 0.4379248281644002)]"
      ]
     },
     "execution_count": 405,
     "metadata": {},
     "output_type": "execute_result"
    }
   ],
   "source": [
    "sorted(score.items(), key=lambda x:x[1], reverse=True)[:30]"
   ]
  },
  {
   "cell_type": "markdown",
   "id": "be7e73fc",
   "metadata": {},
   "source": [
    "## 5.2.3. Algorithm for Responding to Critiques"
   ]
  },
  {
   "cell_type": "code",
   "execution_count": 59,
   "id": "8f80d080",
   "metadata": {},
   "outputs": [
    {
     "ename": "IndentationError",
     "evalue": "expected an indented block after function definition on line 1 (2447653407.py, line 1)",
     "output_type": "error",
     "traceback": [
      "\u001b[1;36m  Input \u001b[1;32mIn [59]\u001b[1;36m\u001b[0m\n\u001b[1;33m    def sorting():\u001b[0m\n\u001b[1;37m                  ^\u001b[0m\n\u001b[1;31mIndentationError\u001b[0m\u001b[1;31m:\u001b[0m expected an indented block after function definition on line 1\n"
     ]
    }
   ],
   "source": [
    "def sorting(item,critiques):\n",
    "    for tag, direction in critiques:\n",
    "        \n",
    "    #critiques = [tag,direction]\n",
    "    "
   ]
  },
  {
   "cell_type": "code",
   "execution_count": 152,
   "id": "3446e706",
   "metadata": {},
   "outputs": [
    {
     "data": {
      "text/plain": [
       "'Shrek the Third (2007)'"
      ]
     },
     "execution_count": 152,
     "metadata": {},
     "output_type": "execute_result"
    }
   ],
   "source": [
    "item"
   ]
  },
  {
   "cell_type": "code",
   "execution_count": 156,
   "id": "88555008",
   "metadata": {},
   "outputs": [],
   "source": [
    "critiques = [('classic',0.5),('007',-0.5)]"
   ]
  },
  {
   "cell_type": "code",
   "execution_count": 154,
   "id": "37291ae6",
   "metadata": {},
   "outputs": [
    {
     "name": "stdout",
     "output_type": "stream",
     "text": [
      "[('Pele', 150), ('Ronaldo', 132), ('Messi', 125), ('Eusebio', 120), ('Cruyff', 104)]\n"
     ]
    }
   ],
   "source": [
    "footballers_goals = {'Eusebio': 120, 'Cruyff': 104, 'Pele': 150, 'Ronaldo': 132, 'Messi': 125}\n",
    "\n",
    "sorted_footballers_by_goals = sorted(footballers_goals.items(), key=lambda x:x[1], reverse=True)\n",
    "print(sorted_footballers_by_goals)"
   ]
  },
  {
   "cell_type": "code",
   "execution_count": 153,
   "id": "53224664",
   "metadata": {},
   "outputs": [
    {
     "data": {
      "text/plain": [
       "('Messi', 125)"
      ]
     },
     "execution_count": 153,
     "metadata": {},
     "output_type": "execute_result"
    }
   ],
   "source": [
    "sorted_footballers_by_goals[2]"
   ]
  },
  {
   "cell_type": "code",
   "execution_count": 151,
   "id": "bbd254da",
   "metadata": {},
   "outputs": [
    {
     "data": {
      "text/plain": [
       "[('Eusebio', 120), ('Cruyff', 104), ('Pele', 150), ('Ronaldo', 132)]"
      ]
     },
     "execution_count": 151,
     "metadata": {},
     "output_type": "execute_result"
    }
   ],
   "source": [
    "list(footballers_goals.items())[:4]"
   ]
  },
  {
   "cell_type": "code",
   "execution_count": 70,
   "id": "7200045d",
   "metadata": {},
   "outputs": [
    {
     "data": {
      "text/plain": [
       "dict_items([('Eusebio', 120), ('Cruyff', 104), ('Pele', 150), ('Ronaldo', 132), ('Messi', 125)])"
      ]
     },
     "execution_count": 70,
     "metadata": {},
     "output_type": "execute_result"
    }
   ],
   "source": [
    "footballers_goals.items()"
   ]
  },
  {
   "cell_type": "code",
   "execution_count": 64,
   "id": "61b8b78a",
   "metadata": {},
   "outputs": [
    {
     "data": {
      "text/plain": [
       "0.5"
      ]
     },
     "execution_count": 64,
     "metadata": {},
     "output_type": "execute_result"
    }
   ],
   "source": [
    "a[0][1]"
   ]
  },
  {
   "cell_type": "code",
   "execution_count": null,
   "id": "d442ec74",
   "metadata": {},
   "outputs": [],
   "source": []
  }
 ],
 "metadata": {
  "kernelspec": {
   "display_name": "Python 3 (ipykernel)",
   "language": "python",
   "name": "python3"
  },
  "language_info": {
   "codemirror_mode": {
    "name": "ipython",
    "version": 3
   },
   "file_extension": ".py",
   "mimetype": "text/x-python",
   "name": "python",
   "nbconvert_exporter": "python",
   "pygments_lexer": "ipython3",
   "version": "3.10.1"
  }
 },
 "nbformat": 4,
 "nbformat_minor": 5
}
